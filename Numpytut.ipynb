{
 "cells": [
  {
   "cell_type": "code",
   "execution_count": 39,
   "id": "69fc89d6",
   "metadata": {},
   "outputs": [
    {
     "data": {
      "text/html": [
       "<img src=\"numpy_logo_icon_168073.png\" width=\"350\" height=\"50\"/>"
      ],
      "text/plain": [
       "<IPython.core.display.Image object>"
      ]
     },
     "execution_count": 39,
     "metadata": {},
     "output_type": "execute_result"
    }
   ],
   "source": []
  },
  {
   "cell_type": "markdown",
   "id": "0c8c1bbc",
   "metadata": {},
   "source": [
    "## Numpy: Numpy is an external package which helps us to create C styled arrays, process the data and execute stuffs and used to deal with linear algebra aspects used in python"
   ]
  },
  {
   "cell_type": "markdown",
   "id": "b50ad5cd",
   "metadata": {},
   "source": [
    "### here first we import our numpy package as np(alias) to use it\n",
    "### np.array(): helps us to create arrays we want of any shape and size\n",
    "### reshape(): helps us to change the dimmensions or the shape of an alraedy exsisting array"
   ]
  },
  {
   "cell_type": "code",
   "execution_count": 2,
   "id": "4e21ff6e",
   "metadata": {},
   "outputs": [
    {
     "name": "stdout",
     "output_type": "stream",
     "text": [
      "[[1 2]\n",
      " [3 4]\n",
      " [5 6]\n",
      " [7 8]\n",
      " [9 0]]\n",
      "[1 2 3 4 5 6 7 8 9 0]\n"
     ]
    }
   ],
   "source": [
    "import numpy as np\n",
    "arr=np.array([1,2,3,4,5,6,7,8,9,0])\n",
    "vrr=arr.reshape(5,2)\n",
    "print(vrr)\n",
    "print(arr)"
   ]
  },
  {
   "cell_type": "markdown",
   "id": "f9c397c7",
   "metadata": {},
   "source": [
    "## 1. Indexing our arrays"
   ]
  },
  {
   "cell_type": "code",
   "execution_count": 2,
   "id": "1869dc96",
   "metadata": {},
   "outputs": [],
   "source": [
    "import numpy as np"
   ]
  },
  {
   "cell_type": "markdown",
   "id": "062b60a5",
   "metadata": {},
   "source": [
    "##### Here the astype() method converts the array from one datatype to another"
   ]
  },
  {
   "cell_type": "code",
   "execution_count": 2,
   "id": "e11a61e0",
   "metadata": {},
   "outputs": [],
   "source": [
    "a=np.array([1,2.5,7,8.8])\n",
    "b=a.astype('int')"
   ]
  },
  {
   "cell_type": "code",
   "execution_count": 3,
   "id": "a078d311",
   "metadata": {},
   "outputs": [
    {
     "data": {
      "text/plain": [
       "array([1, 2, 7, 8])"
      ]
     },
     "execution_count": 3,
     "metadata": {},
     "output_type": "execute_result"
    }
   ],
   "source": [
    "b"
   ]
  },
  {
   "cell_type": "code",
   "execution_count": 4,
   "id": "e0d63843",
   "metadata": {},
   "outputs": [
    {
     "name": "stdout",
     "output_type": "stream",
     "text": [
      "8.8\n",
      "8\n"
     ]
    }
   ],
   "source": [
    "print(a[3])\n",
    "print(b[3])"
   ]
  },
  {
   "cell_type": "code",
   "execution_count": 5,
   "id": "da7f02d4",
   "metadata": {},
   "outputs": [
    {
     "name": "stdout",
     "output_type": "stream",
     "text": [
      "2\n"
     ]
    }
   ],
   "source": [
    "print(b[-3])"
   ]
  },
  {
   "cell_type": "markdown",
   "id": "f07abc84",
   "metadata": {},
   "source": [
    "#### A simple program to find the elements of an array at the index given by the user using exception handling"
   ]
  },
  {
   "cell_type": "code",
   "execution_count": 9,
   "id": "637e404c",
   "metadata": {},
   "outputs": [
    {
     "name": "stdout",
     "output_type": "stream",
     "text": [
      "enter the row and column of the element u want to view:\n",
      "3\n",
      "4\n",
      "index 3 is out of bounds for axis 0 with size 3\n",
      "give valid indices\n"
     ]
    }
   ],
   "source": [
    "arr=np.array([[1,2,3],[4,5,6],[7,8,9]])\n",
    "try:\n",
    "    print(\"enter the row and column of the element u want to view:\")\n",
    "    x=int(input())\n",
    "    y=int(input())\n",
    "    print(arr[x][y])\n",
    "except IndexError as i:\n",
    "    print(i)\n",
    "    print(\"give valid indices\")\n",
    "except Exception as e:\n",
    "    print(e)"
   ]
  },
  {
   "cell_type": "code",
   "execution_count": 10,
   "id": "9766808d",
   "metadata": {},
   "outputs": [
    {
     "data": {
      "text/plain": [
       "9"
      ]
     },
     "execution_count": 10,
     "metadata": {},
     "output_type": "execute_result"
    }
   ],
   "source": [
    "arr[2][2]"
   ]
  },
  {
   "cell_type": "markdown",
   "id": "7219f9c2",
   "metadata": {},
   "source": [
    "## 2. Slicing our array"
   ]
  },
  {
   "cell_type": "markdown",
   "id": "4776bedc",
   "metadata": {},
   "source": [
    "##### a. For 1d array"
   ]
  },
  {
   "cell_type": "markdown",
   "id": "7af674fb",
   "metadata": {},
   "source": [
    "#### General syntax for slicing 1d arrays: arr[m : n : step ] "
   ]
  },
  {
   "cell_type": "code",
   "execution_count": 11,
   "id": "f482e3c0",
   "metadata": {},
   "outputs": [],
   "source": [
    "arr=np.array([1,2,3,4,5,6,7,8,9])"
   ]
  },
  {
   "cell_type": "code",
   "execution_count": 12,
   "id": "31b9af2c",
   "metadata": {},
   "outputs": [
    {
     "name": "stdout",
     "output_type": "stream",
     "text": [
      "[3 4 5]\n",
      "[2 4 6]\n"
     ]
    }
   ],
   "source": [
    "print(arr[2:5])\n",
    "print(arr[1:6:2])"
   ]
  },
  {
   "cell_type": "code",
   "execution_count": 13,
   "id": "60419df2",
   "metadata": {},
   "outputs": [
    {
     "name": "stdout",
     "output_type": "stream",
     "text": [
      "[1 3 5]\n",
      "[1 3 5 7 9]\n",
      "[3 4 5 6 7 8 9]\n",
      "[1 2 3 4 5 6 7 8 9]\n"
     ]
    }
   ],
   "source": [
    "print(arr[:6:2])\n",
    "print(arr[::2])\n",
    "print(arr[2::])\n",
    "print(arr[::])"
   ]
  },
  {
   "cell_type": "markdown",
   "id": "2db4891a",
   "metadata": {},
   "source": [
    "###### b. For 2d array "
   ]
  },
  {
   "cell_type": "markdown",
   "id": "61b55b69",
   "metadata": {},
   "source": [
    "#### General syntax for slicing 2d arrays: arr[ m: n: step1 , x: y: step2]"
   ]
  },
  {
   "cell_type": "code",
   "execution_count": 14,
   "id": "6e1e0e0c",
   "metadata": {},
   "outputs": [
    {
     "name": "stdout",
     "output_type": "stream",
     "text": [
      "[[1 2 3]\n",
      " [4 5 6]\n",
      " [7 8 9]]\n"
     ]
    },
    {
     "data": {
      "text/plain": [
       "array([[1, 2, 3],\n",
       "       [4, 5, 6],\n",
       "       [7, 8, 9]])"
      ]
     },
     "execution_count": 14,
     "metadata": {},
     "output_type": "execute_result"
    }
   ],
   "source": [
    "arr=np.array([[1,2,3],[4,5,6],[7,8,9]])\n",
    "print(arr)\n",
    "arr"
   ]
  },
  {
   "cell_type": "code",
   "execution_count": 15,
   "id": "5c4a9cc0",
   "metadata": {},
   "outputs": [
    {
     "name": "stdout",
     "output_type": "stream",
     "text": [
      "[1 2 3]\n",
      "[[1 2 3]]\n"
     ]
    }
   ],
   "source": [
    "print(arr[0,:])\n",
    "print(arr[0:1,:])"
   ]
  },
  {
   "cell_type": "code",
   "execution_count": 16,
   "id": "ee0e3b46",
   "metadata": {},
   "outputs": [
    {
     "name": "stdout",
     "output_type": "stream",
     "text": [
      "[[1 3]\n",
      " [7 9]]\n"
     ]
    }
   ],
   "source": [
    "print(arr[::2,::2])"
   ]
  },
  {
   "cell_type": "code",
   "execution_count": 17,
   "id": "8767ac06",
   "metadata": {},
   "outputs": [],
   "source": [
    "v=np.array([[1,2,3],[4,5,6],[7,8,9]])"
   ]
  },
  {
   "cell_type": "code",
   "execution_count": 18,
   "id": "d15a1a72",
   "metadata": {},
   "outputs": [
    {
     "data": {
      "text/plain": [
       "array([[7, 8, 9],\n",
       "       [4, 5, 6],\n",
       "       [7, 8, 9]])"
      ]
     },
     "execution_count": 18,
     "metadata": {},
     "output_type": "execute_result"
    }
   ],
   "source": [
    "v[[0,1]]=v[[2,1]]\n",
    "v"
   ]
  },
  {
   "cell_type": "code",
   "execution_count": 19,
   "id": "8acc707e",
   "metadata": {},
   "outputs": [
    {
     "name": "stdout",
     "output_type": "stream",
     "text": [
      "[[2]\n",
      " [5]\n",
      " [8]]\n",
      "[2 5 8]\n"
     ]
    }
   ],
   "source": [
    "print(arr[:,1::2])\n",
    "print(arr[0:3,1])"
   ]
  },
  {
   "cell_type": "code",
   "execution_count": 20,
   "id": "bcb34707",
   "metadata": {},
   "outputs": [
    {
     "name": "stdout",
     "output_type": "stream",
     "text": [
      "[[5 6]\n",
      " [8 9]]\n",
      "\n",
      "[5 6]\n"
     ]
    }
   ],
   "source": [
    "print(arr[1:3,1:3])\n",
    "print()\n",
    "print(arr[1,1:3])"
   ]
  },
  {
   "cell_type": "markdown",
   "id": "3b0c45b0",
   "metadata": {},
   "source": [
    "###### c. Slicing our 3D array"
   ]
  },
  {
   "cell_type": "markdown",
   "id": "15ad0993",
   "metadata": {},
   "source": [
    "#### we can acces the elements of 3d array as: arr[ depth_axis, row , column]"
   ]
  },
  {
   "cell_type": "markdown",
   "id": "e3999471",
   "metadata": {},
   "source": [
    "#### To slice 3d arrays: arr[ a: b: step1, x: y: step2, m: n: step3"
   ]
  },
  {
   "cell_type": "code",
   "execution_count": 21,
   "id": "847eda77",
   "metadata": {},
   "outputs": [],
   "source": [
    "arr=np.array([[[1,2],[3,4],[5,6]],\n",
    "             [[7,8],[9,10],[11,12]],\n",
    "             [[13,14],[15,16],[17,18]]])"
   ]
  },
  {
   "cell_type": "code",
   "execution_count": 22,
   "id": "781ce87d",
   "metadata": {},
   "outputs": [
    {
     "data": {
      "text/plain": [
       "array([[[ 1,  2],\n",
       "        [ 3,  4],\n",
       "        [ 5,  6]],\n",
       "\n",
       "       [[ 7,  8],\n",
       "        [ 9, 10],\n",
       "        [11, 12]],\n",
       "\n",
       "       [[13, 14],\n",
       "        [15, 16],\n",
       "        [17, 18]]])"
      ]
     },
     "execution_count": 22,
     "metadata": {},
     "output_type": "execute_result"
    }
   ],
   "source": [
    "arr"
   ]
  },
  {
   "cell_type": "code",
   "execution_count": 23,
   "id": "81e094f9",
   "metadata": {},
   "outputs": [
    {
     "data": {
      "text/plain": [
       "1"
      ]
     },
     "execution_count": 23,
     "metadata": {},
     "output_type": "execute_result"
    }
   ],
   "source": [
    "arr[0,0,0]"
   ]
  },
  {
   "cell_type": "code",
   "execution_count": 24,
   "id": "d9e5089c",
   "metadata": {},
   "outputs": [
    {
     "name": "stdout",
     "output_type": "stream",
     "text": [
      "[5 6]\n"
     ]
    }
   ],
   "source": [
    "print(arr[0,2,:])"
   ]
  },
  {
   "cell_type": "code",
   "execution_count": 25,
   "id": "8684adc7",
   "metadata": {},
   "outputs": [
    {
     "name": "stdout",
     "output_type": "stream",
     "text": [
      "[[[ 7  8]\n",
      "  [ 9 10]]\n",
      "\n",
      " [[13 14]\n",
      "  [15 16]]]\n"
     ]
    }
   ],
   "source": [
    "print(arr[1:,0:2,:])"
   ]
  },
  {
   "cell_type": "markdown",
   "id": "461c9e14",
   "metadata": {},
   "source": [
    "## 3. Creating arrays using various numpy methods"
   ]
  },
  {
   "cell_type": "markdown",
   "id": "373c6189",
   "metadata": {},
   "source": [
    "#### a. Creating arrays of zeroes using  .zeros( ( shape ), dtype)"
   ]
  },
  {
   "cell_type": "code",
   "execution_count": 2,
   "id": "6b1003b5",
   "metadata": {},
   "outputs": [
    {
     "data": {
      "text/plain": [
       "array([[0.+0.j, 0.+0.j],\n",
       "       [0.+0.j, 0.+0.j]])"
      ]
     },
     "execution_count": 2,
     "metadata": {},
     "output_type": "execute_result"
    }
   ],
   "source": [
    "np.zeros((2,2),dtype='complex')"
   ]
  },
  {
   "cell_type": "markdown",
   "id": "d26b507a",
   "metadata": {},
   "source": [
    "#### b. Creating arrays of 1 using  .ones( ( shape ) , dtype)"
   ]
  },
  {
   "cell_type": "code",
   "execution_count": 3,
   "id": "9e880fe9",
   "metadata": {},
   "outputs": [
    {
     "data": {
      "text/plain": [
       "array([1., 1., 1., 1., 1.])"
      ]
     },
     "execution_count": 3,
     "metadata": {},
     "output_type": "execute_result"
    }
   ],
   "source": [
    "np.ones(5)"
   ]
  },
  {
   "cell_type": "code",
   "execution_count": 4,
   "id": "e9646955",
   "metadata": {},
   "outputs": [
    {
     "data": {
      "text/plain": [
       "array([['1', '1', '1'],\n",
       "       ['1', '1', '1']], dtype='<U1')"
      ]
     },
     "execution_count": 4,
     "metadata": {},
     "output_type": "execute_result"
    }
   ],
   "source": [
    "np.ones((2,3),dtype='str')"
   ]
  },
  {
   "cell_type": "markdown",
   "id": "62c8f5fb",
   "metadata": {},
   "source": [
    "#### c. Creating arrays of random numbers using  .random.rand(size)"
   ]
  },
  {
   "cell_type": "code",
   "execution_count": 5,
   "id": "15514e5e",
   "metadata": {},
   "outputs": [
    {
     "data": {
      "text/plain": [
       "array([[0.16471286, 0.09568188],\n",
       "       [0.41718609, 0.62388437],\n",
       "       [0.36001523, 0.65324927]])"
      ]
     },
     "execution_count": 5,
     "metadata": {},
     "output_type": "execute_result"
    }
   ],
   "source": [
    "np.random.rand(3,2)"
   ]
  },
  {
   "cell_type": "markdown",
   "id": "a0dbca94",
   "metadata": {},
   "source": [
    "#### d. Creating array of any number of our choice using the .full( (size) , number)"
   ]
  },
  {
   "cell_type": "code",
   "execution_count": 6,
   "id": "e3dfac4f",
   "metadata": {},
   "outputs": [
    {
     "data": {
      "text/plain": [
       "array([[69, 69, 69],\n",
       "       [69, 69, 69]])"
      ]
     },
     "execution_count": 6,
     "metadata": {},
     "output_type": "execute_result"
    }
   ],
   "source": [
    "np.full((2,3),69)"
   ]
  },
  {
   "cell_type": "markdown",
   "id": "d514cdc4",
   "metadata": {},
   "source": [
    "#### e. Creating equally spaced arrays using: .arange( start , stop , dev , dtype)"
   ]
  },
  {
   "cell_type": "code",
   "execution_count": 7,
   "id": "c0d270a1",
   "metadata": {},
   "outputs": [
    {
     "data": {
      "text/plain": [
       "array([2, 4, 6, 8])"
      ]
     },
     "execution_count": 7,
     "metadata": {},
     "output_type": "execute_result"
    }
   ],
   "source": [
    "np.arange(2,10,2)"
   ]
  },
  {
   "cell_type": "code",
   "execution_count": 8,
   "id": "392267bf",
   "metadata": {},
   "outputs": [
    {
     "data": {
      "text/plain": [
       "array([0, 1, 2, 3, 4])"
      ]
     },
     "execution_count": 8,
     "metadata": {},
     "output_type": "execute_result"
    }
   ],
   "source": [
    "np.arange(5)"
   ]
  },
  {
   "cell_type": "code",
   "execution_count": 9,
   "id": "21fdc9f2",
   "metadata": {},
   "outputs": [
    {
     "data": {
      "text/plain": [
       "array([ 2.+0.j,  4.+0.j,  6.+0.j,  8.+0.j, 10.+0.j])"
      ]
     },
     "execution_count": 9,
     "metadata": {},
     "output_type": "execute_result"
    }
   ],
   "source": [
    "np.arange(2,12,2,dtype='complex')"
   ]
  },
  {
   "cell_type": "markdown",
   "id": "ca044afa",
   "metadata": {},
   "source": [
    "#### f. Creating identity matrix using the .eye( rows , dtype) method"
   ]
  },
  {
   "cell_type": "code",
   "execution_count": 4,
   "id": "2d7a2cca",
   "metadata": {},
   "outputs": [
    {
     "name": "stdout",
     "output_type": "stream",
     "text": [
      "[[1 0 0 0 0 0]\n",
      " [0 1 0 0 0 0]\n",
      " [0 0 1 0 0 0]\n",
      " [0 0 0 1 0 0]\n",
      " [0 0 0 0 1 0]\n",
      " [0 0 0 0 0 1]]\n",
      "\n",
      "[[1 0 0 0 0 0 0 1 0]\n",
      " [0 0 0 0 0 1 0 0 0]\n",
      " [0 0 0 1 0 0 0 0 0]\n",
      " [0 1 0 0 0 0 0 0 1]]\n"
     ]
    }
   ],
   "source": [
    "my_mat=np.eye(6,dtype=int)\n",
    "print(my_mat)\n",
    "print()\n",
    "n=my_mat.reshape(4,9)\n",
    "print(n)"
   ]
  },
  {
   "cell_type": "markdown",
   "id": "1baa1a34",
   "metadata": {},
   "source": [
    "## 4. Flatten, ravel,transpose of matrix created using numpy"
   ]
  },
  {
   "cell_type": "markdown",
   "id": "beadbc16",
   "metadata": {},
   "source": [
    "#### a. flatten and ravel methods:"
   ]
  },
  {
   "cell_type": "markdown",
   "id": "76ddb03e",
   "metadata": {},
   "source": [
    "#### flatten(): returns a copy of 1d array taken from the array calling it and this copy is stored in some other locations and not referencing the original array"
   ]
  },
  {
   "cell_type": "markdown",
   "id": "4136ea12",
   "metadata": {},
   "source": [
    "#### ravel(): returns a 1d array referencing the original array calling it and any changes made to the array returned by ravel would be reflected too in the original array also"
   ]
  },
  {
   "cell_type": "code",
   "execution_count": 11,
   "id": "19d71c1f",
   "metadata": {},
   "outputs": [
    {
     "name": "stdout",
     "output_type": "stream",
     "text": [
      "[[69 69]\n",
      " [69 69]]\n"
     ]
    }
   ],
   "source": [
    "a=np.full((2,2),69)\n",
    "print(a)"
   ]
  },
  {
   "cell_type": "code",
   "execution_count": 13,
   "id": "8734386d",
   "metadata": {},
   "outputs": [
    {
     "name": "stdout",
     "output_type": "stream",
     "text": [
      "[69 69 69 69]\n"
     ]
    }
   ],
   "source": [
    "b=a.flatten()\n",
    "print(b)"
   ]
  },
  {
   "cell_type": "code",
   "execution_count": 14,
   "id": "e386ac2a",
   "metadata": {},
   "outputs": [
    {
     "name": "stdout",
     "output_type": "stream",
     "text": [
      "[69 69 69 69]\n"
     ]
    }
   ],
   "source": [
    "c=a.ravel()\n",
    "print(c)"
   ]
  },
  {
   "cell_type": "code",
   "execution_count": 16,
   "id": "729622b1",
   "metadata": {},
   "outputs": [
    {
     "name": "stdout",
     "output_type": "stream",
     "text": [
      "[[69. 69.]\n",
      " [69. 69.]]\n",
      "[69. 69. 69. 69.]\n",
      "[69. 69. 69. 69.]\n",
      "original array: [[69. 69.]\n",
      " [69. 69.]]\n",
      "[ 69.  69. 619.  69.]\n",
      "original array: [[ 69.  69.]\n",
      " [619.  69.]]\n"
     ]
    }
   ],
   "source": [
    "a=np.full((2,2),69,dtype='float')\n",
    "print(a)\n",
    "b=a.flatten()\n",
    "print(b)\n",
    "c=a.ravel()\n",
    "print(c)\n",
    "print(\"original array:\",a)\n",
    "c[2]=619\n",
    "print(c)\n",
    "print(\"original array:\",a)"
   ]
  },
  {
   "cell_type": "code",
   "execution_count": 19,
   "id": "dffd9781",
   "metadata": {},
   "outputs": [
    {
     "data": {
      "text/plain": [
       "array([69., 69., 69., 69.])"
      ]
     },
     "execution_count": 19,
     "metadata": {},
     "output_type": "execute_result"
    }
   ],
   "source": [
    "d=b.flatten()\n",
    "d"
   ]
  },
  {
   "cell_type": "markdown",
   "id": "c9a564d2",
   "metadata": {},
   "source": [
    "#### b. transpose of a matrix: by transposing a matrix we can interchange the rows and columns of a matrix in python using .transpose() method"
   ]
  },
  {
   "cell_type": "code",
   "execution_count": 2,
   "id": "ee3e5e73",
   "metadata": {},
   "outputs": [
    {
     "name": "stdout",
     "output_type": "stream",
     "text": [
      "original array:\n",
      " [[1 7 9]\n",
      " [2 3 4]]\n",
      "transposed matrix:\n",
      " [[1 2]\n",
      " [7 3]\n",
      " [9 4]]\n",
      "transposed matrix:\n",
      " [[1 2]\n",
      " [7 3]\n",
      " [9 6]]\n",
      "original matrix is:\n",
      " [[1 7 9]\n",
      " [2 3 6]]\n"
     ]
    }
   ],
   "source": [
    "a=np.array([[1,7,9],\n",
    "           [2,3,4]])\n",
    "print(\"original array:\\n\",a)\n",
    "b=a.transpose()\n",
    "print(\"transposed matrix:\\n\",b)\n",
    "b[2][1]=6\n",
    "print(\"transposed matrix:\\n\",b)\n",
    "print(\"original matrix is:\\n\",a)"
   ]
  },
  {
   "cell_type": "markdown",
   "id": "af23e664",
   "metadata": {},
   "source": [
    "### 5. Reversing a 2d array using different methods:"
   ]
  },
  {
   "cell_type": "markdown",
   "id": "223fd388",
   "metadata": {},
   "source": [
    "##### a. Using slicing mechanism"
   ]
  },
  {
   "cell_type": "code",
   "execution_count": 7,
   "id": "e67bdc79",
   "metadata": {},
   "outputs": [
    {
     "name": "stdout",
     "output_type": "stream",
     "text": [
      "[[ 1  2  3  4  5]\n",
      " [ 6  7  8  9 10]]\n",
      "\n",
      "\n",
      "[[10  9  8  7  6]\n",
      " [ 5  4  3  2  1]]\n"
     ]
    }
   ],
   "source": [
    "arr=np.array([[1,2,3,4,5],[6,7,8,9,10]])\n",
    "print(arr)\n",
    "print(\"\\n\")\n",
    "b=arr[::-1,-1::-1]\n",
    "print(b)"
   ]
  },
  {
   "cell_type": "markdown",
   "id": "0ae752b7",
   "metadata": {},
   "source": [
    "#### b. Using the built in flip( arr , axis ) method"
   ]
  },
  {
   "cell_type": "code",
   "execution_count": 9,
   "id": "e0404b88",
   "metadata": {},
   "outputs": [
    {
     "name": "stdout",
     "output_type": "stream",
     "text": [
      "[[ 5  4  3  2  1]\n",
      " [10  9  8  7  6]]\n",
      "\n",
      "[[ 6  7  8  9 10]\n",
      " [ 1  2  3  4  5]]\n"
     ]
    }
   ],
   "source": [
    "print(np.flip(arr,axis=1))\n",
    "print()\n",
    "print(np.flip(arr,axis=0))"
   ]
  },
  {
   "cell_type": "code",
   "execution_count": 10,
   "id": "59000c46",
   "metadata": {},
   "outputs": [
    {
     "name": "stdout",
     "output_type": "stream",
     "text": [
      "[[10  9  8  7  6]\n",
      " [ 5  4  3  2  1]]\n"
     ]
    }
   ],
   "source": [
    "b=np.flip(np.flip(arr,axis=1),axis=0)\n",
    "print(b)"
   ]
  },
  {
   "cell_type": "markdown",
   "id": "b9c39a14",
   "metadata": {},
   "source": [
    "## 6. Stacking and concatenating numpy arrays:"
   ]
  },
  {
   "cell_type": "markdown",
   "id": "88623d5f",
   "metadata": {},
   "source": [
    "#### a. Using the dstack( ) method: where arrays are stacked based on indices along thew depth axis "
   ]
  },
  {
   "cell_type": "code",
   "execution_count": 5,
   "id": "40fc39d6",
   "metadata": {},
   "outputs": [
    {
     "name": "stdout",
     "output_type": "stream",
     "text": [
      "[[[1 5]\n",
      "  [2 6]\n",
      "  [3 7]\n",
      "  [4 8]\n",
      "  [5 9]]]\n"
     ]
    }
   ],
   "source": [
    "a=np.array([1,2,3,4,5])\n",
    "b=np.array([5,6,7,8,9])\n",
    "c=np.dstack((a,b))\n",
    "print(c)"
   ]
  },
  {
   "cell_type": "code",
   "execution_count": 6,
   "id": "c314900e",
   "metadata": {},
   "outputs": [
    {
     "name": "stdout",
     "output_type": "stream",
     "text": [
      "[[[1 5]\n",
      "  [2 6]]\n",
      "\n",
      " [[3 7]\n",
      "  [4 8]]]\n",
      "8\n",
      "(2, 2, 2)\n"
     ]
    }
   ],
   "source": [
    "a1=np.array([[1,2],[3,4]])\n",
    "a2=np.array([[5,6],[7,8]])\n",
    "c1=np.dstack((a1,a2))\n",
    "print(c1)\n",
    "print(c1.size)\n",
    "print(c1.shape)"
   ]
  },
  {
   "cell_type": "markdown",
   "id": "804cb7a0",
   "metadata": {},
   "source": [
    "#### b. Using the vstack( ) method : where arrays are stacked vertically"
   ]
  },
  {
   "cell_type": "code",
   "execution_count": 7,
   "id": "2872eccb",
   "metadata": {},
   "outputs": [
    {
     "name": "stdout",
     "output_type": "stream",
     "text": [
      "[[1 2 3 4 5]\n",
      " [5 6 7 8 9]]\n"
     ]
    }
   ],
   "source": [
    "print(np.vstack((a,b)))"
   ]
  },
  {
   "cell_type": "markdown",
   "id": "7b7327e1",
   "metadata": {},
   "source": [
    "##### c. Using the hstack( ) method : where the arrays are stacked horizontally"
   ]
  },
  {
   "cell_type": "code",
   "execution_count": 8,
   "id": "7a7dad83",
   "metadata": {},
   "outputs": [
    {
     "name": "stdout",
     "output_type": "stream",
     "text": [
      "[1 2 3 4 5 5 6 7 8 9]\n"
     ]
    }
   ],
   "source": [
    "print(np.hstack((a,b)))"
   ]
  },
  {
   "cell_type": "markdown",
   "id": "6b020219",
   "metadata": {},
   "source": [
    "#### c. concatenate( ) : helps us to concatenate or add arrays to an exsisting array along any axis as we want"
   ]
  },
  {
   "cell_type": "code",
   "execution_count": 9,
   "id": "72535ea3",
   "metadata": {},
   "outputs": [
    {
     "name": "stdout",
     "output_type": "stream",
     "text": [
      "[[1 2]\n",
      " [3 4]\n",
      " [5 6]\n",
      " [7 8]]\n",
      "\n",
      "[[1 2 5 6]\n",
      " [3 4 7 8]]\n"
     ]
    }
   ],
   "source": [
    "a1=np.array([[1,2],[3,4]])\n",
    "a2=np.array([[5,6],[7,8]])\n",
    "a3=np.concatenate((a1,a2),axis=0)\n",
    "print(a3)\n",
    "a4=np.concatenate((a1,a2),axis=1)\n",
    "print()\n",
    "print(a4)"
   ]
  },
  {
   "cell_type": "markdown",
   "id": "923cb4b8",
   "metadata": {},
   "source": [
    "### 7. Basic arithmetic operations on NumPy arrays: The basic arithmetic operations can easily be performed on NumPy arrays. The important thing to remember is that these simple arithmetics operation symbols just act as wrappers for NumPy ufuncs."
   ]
  },
  {
   "cell_type": "markdown",
   "id": "2c767473",
   "metadata": {},
   "source": [
    "##### a. Here we are going to perform some of the basic stuffs like add, substract, multiplication, divide, power, remainder. "
   ]
  },
  {
   "cell_type": "code",
   "execution_count": 10,
   "id": "b54a8d37",
   "metadata": {},
   "outputs": [
    {
     "name": "stdout",
     "output_type": "stream",
     "text": [
      "[[1 2 3 4]\n",
      " [5 6 7 8]]\n"
     ]
    }
   ],
   "source": [
    "a= np.array([[1,2,3,4],[5,6,7,8]])\n",
    "print(a)"
   ]
  },
  {
   "cell_type": "code",
   "execution_count": 12,
   "id": "1831d168",
   "metadata": {},
   "outputs": [
    {
     "name": "stdout",
     "output_type": "stream",
     "text": [
      "addition: [[11 12 13 14]\n",
      " [15 16 17 18]] \n",
      "\n",
      "substraction: [[-9 -8 -7 -6]\n",
      " [-5 -4 -3 -2]] \n",
      "\n",
      "multiplication: [[10 20 30 40]\n",
      " [50 60 70 80]] \n",
      "\n",
      "division: [[0.1 0.2 0.3 0.4]\n",
      " [0.5 0.6 0.7 0.8]] \n",
      "\n",
      "remainder: [[1 2 3 4]\n",
      " [5 6 7 8]] \n",
      "\n",
      "power: [[ 1  4  9 16]\n",
      " [25 36 49 64]] \n",
      "\n"
     ]
    }
   ],
   "source": [
    "print(\"addition:\", a+10,\"\\n\")\n",
    "print(\"substraction:\", a-10,\"\\n\")\n",
    "print(\"multiplication:\", a*10,\"\\n\")\n",
    "print(\"division:\", a/10,\"\\n\")\n",
    "print(\"remainder:\",a%10,\"\\n\")\n",
    "print(\"power:\", a**2,\"\\n\")"
   ]
  },
  {
   "cell_type": "markdown",
   "id": "3f679d6f",
   "metadata": {},
   "source": [
    "#### b. Mean, Median and Standard deviation\n",
    "#### To find the mean , median and standard deviation of a NumPy array, use the mean(), std() and median() methods:"
   ]
  },
  {
   "cell_type": "code",
   "execution_count": 23,
   "id": "b54ed450",
   "metadata": {},
   "outputs": [
    {
     "name": "stdout",
     "output_type": "stream",
     "text": [
      "mean of the columns of array a: [3. 4. 5. 6.]\n"
     ]
    }
   ],
   "source": [
    "# this gives mean of all the columns (axis=0)\n",
    "print(\"mean of the columns of array a:\", np.mean(a,axis=0))"
   ]
  },
  {
   "cell_type": "code",
   "execution_count": 24,
   "id": "cce8b3f4",
   "metadata": {},
   "outputs": [
    {
     "name": "stdout",
     "output_type": "stream",
     "text": [
      "median of the rows of array a: [2.5 6.5]\n"
     ]
    }
   ],
   "source": [
    "# this gives median of all the rows (axis=1)\n",
    "print(\"median of the rows of array a:\", np.median(a,axis=1))"
   ]
  },
  {
   "cell_type": "code",
   "execution_count": 25,
   "id": "e19d4d4e",
   "metadata": {},
   "outputs": [
    {
     "name": "stdout",
     "output_type": "stream",
     "text": [
      "median of the array a: 4.5\n",
      "mean of the array a: 4.5\n"
     ]
    }
   ],
   "source": [
    "# this gives mean and median of the whole array\n",
    "print(\"median of the array a:\", np.median(a))\n",
    "print(\"mean of the array a:\", np.mean(a))"
   ]
  },
  {
   "cell_type": "code",
   "execution_count": 26,
   "id": "fab75dcc",
   "metadata": {
    "scrolled": true
   },
   "outputs": [
    {
     "name": "stdout",
     "output_type": "stream",
     "text": [
      "standard deviation of the array: 2.29128784747792\n"
     ]
    }
   ],
   "source": [
    "print(\"standard deviation of the array:\", np.std(a))"
   ]
  },
  {
   "cell_type": "markdown",
   "id": "6ddedc53",
   "metadata": {},
   "source": [
    "#### c. Applying Linear Algebra operations :"
   ]
  },
  {
   "cell_type": "code",
   "execution_count": 28,
   "id": "a288bafd",
   "metadata": {},
   "outputs": [
    {
     "name": "stdout",
     "output_type": "stream",
     "text": [
      "[[ 6  1  1]\n",
      " [ 4 -2  5]\n",
      " [ 2  8  7]]\n"
     ]
    }
   ],
   "source": [
    "a = np.array([[6, 1, 1],\n",
    "[4, -2, 5],\n",
    "[2, 8, 7]])\n",
    "print(a)"
   ]
  },
  {
   "cell_type": "code",
   "execution_count": 41,
   "id": "182ed31b",
   "metadata": {},
   "outputs": [
    {
     "name": "stdout",
     "output_type": "stream",
     "text": [
      "rank of matrix: 3\n",
      "trace of matrix: 11\n",
      "determinent of matrix: -306.0 \n",
      "\n",
      "inverse of matrix: [[ 0.17647059 -0.00326797 -0.02287582]\n",
      " [ 0.05882353 -0.13071895  0.08496732]\n",
      " [-0.11764706  0.1503268   0.05228758]]\n"
     ]
    }
   ],
   "source": [
    "print( \"rank of matrix:\", np.linalg.matrix_rank(a) )\n",
    "print( \"trace of matrix:\", np.trace(a) )\n",
    "print( \"determinent of matrix:\", np.linalg.det(a) ,\"\\n\")\n",
    "print( \"inverse of matrix:\", np.linalg.inv(a) )"
   ]
  },
  {
   "cell_type": "markdown",
   "id": "e312b070",
   "metadata": {},
   "source": [
    "#### d. Min-Max values and their indexes\n",
    "#### Min and Max values in an array can be easily found using the min() and max() methods:"
   ]
  },
  {
   "cell_type": "code",
   "execution_count": 43,
   "id": "ca8af109",
   "metadata": {},
   "outputs": [
    {
     "name": "stdout",
     "output_type": "stream",
     "text": [
      "[[ 6  1  1]\n",
      " [ 4 -2  5]\n",
      " [ 2  8  7]]\n"
     ]
    }
   ],
   "source": [
    "a = np.array([[6, 1, 1],\n",
    "[4, -2, 5],\n",
    "[2, 8, 7]])\n",
    "print(a)"
   ]
  },
  {
   "cell_type": "code",
   "execution_count": 47,
   "id": "16aeb519",
   "metadata": {},
   "outputs": [
    {
     "name": "stdout",
     "output_type": "stream",
     "text": [
      "maximum element of the array: 8\n",
      "minimum element of the array: -2 \n",
      "\n"
     ]
    }
   ],
   "source": [
    "print(\"maximum element of the array:\", np.max(a))\n",
    "print(\"minimum element of the array:\", np.min(a), \"\\n\")"
   ]
  },
  {
   "cell_type": "code",
   "execution_count": 50,
   "id": "17ad4a99",
   "metadata": {},
   "outputs": [
    {
     "name": "stdout",
     "output_type": "stream",
     "text": [
      "maximum element of rows of the array: [6 5 8]\n",
      "minimum element of the columns of the array: [ 2 -2  1]\n"
     ]
    }
   ],
   "source": [
    "# when axis=0: it works with columns \n",
    "# when axis=1: it works with rows\n",
    "print(\"maximum element of rows of the array:\", np.max(a,axis=1))\n",
    "print(\"minimum element of the columns of the array:\", np.min(a,axis=0))"
   ]
  },
  {
   "cell_type": "markdown",
   "id": "92bd3bf0",
   "metadata": {},
   "source": [
    "### 8. Sorting in NumPy arrays\n",
    "### For any programmer, the time complexity of any algorithm is of prime essence. Sorting is an important and very basic operation that you might well use on a daily basis as a data scientist. So, it is important to use a good sorting algorithm with minimum time complexity.\n",
    "### The Numpy library has a range of sorting functions that you can use to sort your array elements. It has implemented quicksort, heapsort, mergesort, and timesort for you under the hood when you use the sort() method:"
   ]
  },
  {
   "cell_type": "code",
   "execution_count": 52,
   "id": "9df06daa",
   "metadata": {},
   "outputs": [
    {
     "name": "stdout",
     "output_type": "stream",
     "text": [
      "[1 4 2 5 3 6 8 7 9]\n"
     ]
    }
   ],
   "source": [
    "a=np.array([1,4,2,5,3,6,8,7,9])\n",
    "print(a)"
   ]
  },
  {
   "cell_type": "code",
   "execution_count": 55,
   "id": "1d08a388",
   "metadata": {},
   "outputs": [
    {
     "name": "stdout",
     "output_type": "stream",
     "text": [
      "heap sorting: [1 2 3 4 5 6 7 8 9]\n"
     ]
    }
   ],
   "source": [
    "b=np.sort(a,kind='heapsort')\n",
    "print(\"heap sorting:\",b)"
   ]
  },
  {
   "cell_type": "code",
   "execution_count": 54,
   "id": "e68a3dc9",
   "metadata": {},
   "outputs": [
    {
     "name": "stdout",
     "output_type": "stream",
     "text": [
      "quick sorting: [1 2 3 4 5 6 7 8 9]\n"
     ]
    }
   ],
   "source": [
    "c=np.sort(a,kind='quicksort')\n",
    "print(\"quick sorting:\" ,c)"
   ]
  },
  {
   "cell_type": "markdown",
   "id": "66020f15",
   "metadata": {},
   "source": [
    "#### a. We can also sort the data as we wish i.e. along the rows(axis=0) or along the columns  ( axis= 1)."
   ]
  },
  {
   "cell_type": "code",
   "execution_count": 56,
   "id": "e43023dc",
   "metadata": {},
   "outputs": [
    {
     "name": "stdout",
     "output_type": "stream",
     "text": [
      "Sort along column : \n",
      " [[4 5 6 7]\n",
      " [2 3 7 9]]\n",
      "Sort along row : \n",
      " [[5 2 3 4]\n",
      " [9 6 7 7]]\n"
     ]
    }
   ],
   "source": [
    "a = np.array([[5,6,7,4],\n",
    "              [9,2,3,7]])\n",
    "# sort along the column\n",
    "print('Sort along column :','\\n',np.sort(a, kind='mergresort',axis=1))\n",
    "# sort along the row\n",
    "print('Sort along row :','\\n',np.sort(a, kind='mergresort',axis=0))"
   ]
  },
  {
   "cell_type": "markdown",
   "id": "6394488e",
   "metadata": {},
   "source": [
    "### 9. NumPy arrays and Images"
   ]
  },
  {
   "cell_type": "markdown",
   "id": "4d51ea40",
   "metadata": {},
   "source": [
    "#### Images are made up of pixels that are stored in the form of an array. Each pixel has a value ranging between 0 to 255 – 0 indicating a black pixel and 255 indicating a white pixel. A colored image consists of three 2-D arrays, one for each of the color channels: Red, Green, and Blue, placed back-to-back thus making a 3-D array. Each value in the array constitutes a pixel value. So, the size of the array depends on the number of pixels along each dimension."
   ]
  },
  {
   "cell_type": "markdown",
   "id": "9ae29fab",
   "metadata": {},
   "source": [
    "##### This is a good start. Matplotlib has its own module for handling images, and you’re going to lean on that because it makes straightforward to read and write image formats.\n",
    "\n",
    "#### If you run this code, then your friend the NumPy array will appear in the output:"
   ]
  },
  {
   "cell_type": "code",
   "execution_count": 15,
   "id": "f05a05af",
   "metadata": {},
   "outputs": [
    {
     "name": "stdout",
     "output_type": "stream",
     "text": [
      "<class 'numpy.ndarray'>\n",
      "(612, 408, 3)\n"
     ]
    }
   ],
   "source": [
    "import numpy as np\n",
    "import matplotlib.image as mpimg\n",
    "img = mpimg.imread(\"cat.jpg.jpg\")\n",
    "print(type(img))\n",
    "print(img.shape)"
   ]
  },
  {
   "cell_type": "markdown",
   "id": "3895b847",
   "metadata": {},
   "source": [
    "##### This is a simple code to display the original image"
   ]
  },
  {
   "cell_type": "code",
   "execution_count": 27,
   "id": "8b4016f3",
   "metadata": {},
   "outputs": [
    {
     "data": {
      "text/html": [
       "<img src=\"cat.jpg.jpg\" width=\"209\" height=\"50\"/>"
      ],
      "text/plain": [
       "<IPython.core.display.Image object>"
      ]
     },
     "execution_count": 27,
     "metadata": {},
     "output_type": "execute_result"
    }
   ],
   "source": [
    "from IPython.display import Image\n",
    "Image(url= \"cat.jpg.jpg\", width=209, height=50)"
   ]
  },
  {
   "cell_type": "markdown",
   "id": "ab876221",
   "metadata": {},
   "source": [
    "###### a. Want to see what happens when you drop out the R and G channels?"
   ]
  },
  {
   "cell_type": "code",
   "execution_count": 19,
   "id": "c6d59efe",
   "metadata": {},
   "outputs": [],
   "source": [
    "output = img.copy()  # The original image is read-only!\n",
    "output[:, :, :2] = 0\n",
    "mpimg.imsave(\"blue1.jpg\", output)"
   ]
  },
  {
   "cell_type": "markdown",
   "id": "75df43e3",
   "metadata": {},
   "source": [
    "###### We get an image consisting of only blue channel and the image appares to be blue"
   ]
  },
  {
   "cell_type": "code",
   "execution_count": 28,
   "id": "6eec6f7d",
   "metadata": {},
   "outputs": [
    {
     "data": {
      "text/html": [
       "<img src=\"blue1.jpg\" width=\"200\" height=\"50\"/>"
      ],
      "text/plain": [
       "<IPython.core.display.Image object>"
      ]
     },
     "execution_count": 28,
     "metadata": {},
     "output_type": "execute_result"
    }
   ],
   "source": [
    "from IPython.display import Image\n",
    "Image(url= \"blue1.jpg\", width=200, height=50)"
   ]
  },
  {
   "cell_type": "markdown",
   "id": "13cace0a",
   "metadata": {},
   "source": [
    "#### b. Lets now create a black and white image of our cat"
   ]
  },
  {
   "cell_type": "markdown",
   "id": "6c80dad7",
   "metadata": {},
   "source": [
    "###### But now, it’s time to do something a little more useful. You’re going to convert this image to grayscale. However, converting to grayscale is more complicated. Averaging the R, G, and B channels and making them all the same will give you an image that’s grayscale. \n",
    "###### You can specify a color map, known as a cmap in the Matplotlib world. If you specify a cmap, then Matplotlib will handle the linear gradient calculations for you.\n",
    "###### These new lines create a new array called averages, which is a copy of the img array that you’ve flattened along axis 2 by taking the average of all three channels. You’ve averaged all three channels and outputted something with R, G, and B values equal to that average. When R, G, and B are all the same, the resulting color is on the grayscale."
   ]
  },
  {
   "cell_type": "code",
   "execution_count": 29,
   "id": "e4471e00",
   "metadata": {},
   "outputs": [],
   "source": [
    "averages = img.mean(axis=2)  # Take the average of each R, G, and B\n",
    "mpimg.imsave(\"black-white.jpg\", averages, cmap=\"gray\")"
   ]
  },
  {
   "cell_type": "markdown",
   "id": "fb069610",
   "metadata": {},
   "source": [
    "##### displaying the black and white image:"
   ]
  },
  {
   "cell_type": "code",
   "execution_count": 31,
   "id": "94774735",
   "metadata": {},
   "outputs": [
    {
     "data": {
      "text/html": [
       "<img src=\"black-white.jpg\" width=\"200\" height=\"50\"/>"
      ],
      "text/plain": [
       "<IPython.core.display.Image object>"
      ]
     },
     "execution_count": 31,
     "metadata": {},
     "output_type": "execute_result"
    }
   ],
   "source": [
    "Image(url= \"black-white.jpg\", width=200, height=50)"
   ]
  },
  {
   "cell_type": "markdown",
   "id": "be3981bb",
   "metadata": {},
   "source": [
    "###### "
   ]
  },
  {
   "cell_type": "markdown",
   "id": "cb91624a",
   "metadata": {},
   "source": [
    "### 10. Masking with NumPy arrays:  basically what masking does is that if we apply some logical conditions to our array , then an array corresponding to this values having True - False values would be created as a mask.\n",
    "### Now if we want to retrieve the elements from the original array whic sattisfies our condition then we can simply use this mask array which would return a 1d array where itv gives the elements corresponding to only True values."
   ]
  },
  {
   "cell_type": "markdown",
   "id": "617d5545",
   "metadata": {},
   "source": [
    "#### Lets consider an example where we have a 2d array containing marks and want to retrieve only those marks whic are greater than the passing marks 36:"
   ]
  },
  {
   "cell_type": "code",
   "execution_count": 32,
   "id": "277fa45a",
   "metadata": {},
   "outputs": [],
   "source": [
    "arr= np.array([[16 , 12 , 10 , 65 , 34, 36 ],\n",
    "               [20 , 50 , 72 , 69 , 22 , 52],\n",
    "               [65 , 44 , 42 , 35 , 12 , 29],\n",
    "               [70 , 63 , 67 , 45 , 16 , 37]])\n",
    "# applying our mask\n",
    "mask = arr > 36"
   ]
  },
  {
   "cell_type": "code",
   "execution_count": 33,
   "id": "192a5760",
   "metadata": {},
   "outputs": [
    {
     "name": "stdout",
     "output_type": "stream",
     "text": [
      "Our msked array looks like this:\n",
      "[[False False False  True False False]\n",
      " [False  True  True  True False  True]\n",
      " [ True  True  True False False False]\n",
      " [ True  True  True  True False  True]]\n"
     ]
    }
   ],
   "source": [
    "print(\"Our msked array looks like this:\")\n",
    "print(mask)"
   ]
  },
  {
   "cell_type": "code",
   "execution_count": 36,
   "id": "36cbefe0",
   "metadata": {},
   "outputs": [
    {
     "name": "stdout",
     "output_type": "stream",
     "text": [
      "required results are as follows:\n",
      "\n",
      "[65 50 72 69 52 65 44 42 70 63 67 45 37]\n"
     ]
    }
   ],
   "source": [
    "arr1= arr[mask]\n",
    "print(\"required results are as follows:\\n\")\n",
    "print(arr1)"
   ]
  },
  {
   "cell_type": "markdown",
   "id": "ec13156c",
   "metadata": {},
   "source": [
    "#### And that's potentially enough to get started and master the NumPy libraries.... And wish everyone good luck in their coding journey....cheers"
   ]
  }
 ],
 "metadata": {
  "kernelspec": {
   "display_name": "Python 3 (ipykernel)",
   "language": "python",
   "name": "python3"
  },
  "language_info": {
   "codemirror_mode": {
    "name": "ipython",
    "version": 3
   },
   "file_extension": ".py",
   "mimetype": "text/x-python",
   "name": "python",
   "nbconvert_exporter": "python",
   "pygments_lexer": "ipython3",
   "version": "3.9.7"
  }
 },
 "nbformat": 4,
 "nbformat_minor": 5
}
